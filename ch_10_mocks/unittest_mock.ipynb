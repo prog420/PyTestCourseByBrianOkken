{
 "cells": [
  {
   "cell_type": "code",
   "execution_count": 98,
   "id": "0655b052",
   "metadata": {},
   "outputs": [],
   "source": [
    "import unittest.mock\n",
    "from unittest.mock import Mock"
   ]
  },
  {
   "cell_type": "markdown",
   "id": "478e2121",
   "metadata": {},
   "source": [
    "#### 1. Instantiating"
   ]
  },
  {
   "cell_type": "code",
   "execution_count": 99,
   "id": "d95cb69e",
   "metadata": {},
   "outputs": [],
   "source": [
    "def side_effect_one():\n",
    "    return \"side_effect_one\""
   ]
  },
  {
   "cell_type": "code",
   "execution_count": 100,
   "id": "d391c86c",
   "metadata": {},
   "outputs": [],
   "source": [
    "def side_effect_two():\n",
    "    return \"side_effect_two\""
   ]
  },
  {
   "cell_type": "code",
   "execution_count": 101,
   "id": "219b9616",
   "metadata": {},
   "outputs": [],
   "source": [
    "\"\"\"\n",
    "1. side_effect is a function to be called whenever the mock is called\n",
    "2. but if side_effect is an iterable, then each call to the mock \n",
    "    will return the next value from the iterable.\n",
    "\"\"\"\n",
    "mock = Mock(\n",
    "    return_value=\"return_value\",\n",
    "    side_effect=[\n",
    "        side_effect_one(),\n",
    "        side_effect_two(),\n",
    "        unittest.mock.DEFAULT,\n",
    "        4,\n",
    "        5\n",
    "    ]\n",
    ")"
   ]
  },
  {
   "cell_type": "code",
   "execution_count": 102,
   "id": "012de978",
   "metadata": {},
   "outputs": [
    {
     "data": {
      "text/plain": [
       "'side_effect_one'"
      ]
     },
     "execution_count": 102,
     "metadata": {},
     "output_type": "execute_result"
    }
   ],
   "source": [
    "mock()"
   ]
  },
  {
   "cell_type": "code",
   "execution_count": 103,
   "id": "bf06726a",
   "metadata": {},
   "outputs": [
    {
     "data": {
      "text/plain": [
       "'side_effect_two'"
      ]
     },
     "execution_count": 103,
     "metadata": {},
     "output_type": "execute_result"
    }
   ],
   "source": [
    "mock()"
   ]
  },
  {
   "cell_type": "code",
   "execution_count": 104,
   "id": "112f5e1c",
   "metadata": {},
   "outputs": [
    {
     "data": {
      "text/plain": [
       "'return_value'"
      ]
     },
     "execution_count": 104,
     "metadata": {},
     "output_type": "execute_result"
    }
   ],
   "source": [
    "mock()"
   ]
  },
  {
   "cell_type": "markdown",
   "id": "8889f453",
   "metadata": {},
   "source": [
    "#### 2. Lazy Attributes and Methods"
   ]
  },
  {
   "cell_type": "markdown",
   "id": "8d6c2bb5",
   "metadata": {},
   "source": [
    "A Mock creates its attributes when you access them:"
   ]
  },
  {
   "cell_type": "code",
   "execution_count": 6,
   "id": "2997f2d1",
   "metadata": {},
   "outputs": [
    {
     "data": {
      "text/plain": [
       "['_ipython_canary_method_should_not_exist_',\n",
       " 'assert_any_call',\n",
       " 'assert_called',\n",
       " 'assert_called_once',\n",
       " 'assert_called_once_with',\n",
       " 'assert_called_with',\n",
       " 'assert_has_calls',\n",
       " 'assert_not_called',\n",
       " 'attach_mock',\n",
       " 'call_args',\n",
       " 'call_args_list',\n",
       " 'call_count',\n",
       " 'called',\n",
       " 'configure_mock',\n",
       " 'method_calls',\n",
       " 'mock_add_spec',\n",
       " 'mock_calls',\n",
       " 'reset_mock',\n",
       " 'return_value',\n",
       " 'side_effect']"
      ]
     },
     "execution_count": 6,
     "metadata": {},
     "output_type": "execute_result"
    }
   ],
   "source": [
    "dir(mock)"
   ]
  },
  {
   "cell_type": "code",
   "execution_count": 7,
   "id": "5a5851e3",
   "metadata": {},
   "outputs": [
    {
     "data": {
      "text/plain": [
       "<Mock name='mock.some_attribute' id='1845758303760'>"
      ]
     },
     "execution_count": 7,
     "metadata": {},
     "output_type": "execute_result"
    }
   ],
   "source": [
    "mock.some_attribute"
   ]
  },
  {
   "cell_type": "code",
   "execution_count": 8,
   "id": "5098f386",
   "metadata": {},
   "outputs": [
    {
     "data": {
      "text/plain": [
       "<Mock name='mock.do_something()' id='1845757590864'>"
      ]
     },
     "execution_count": 8,
     "metadata": {},
     "output_type": "execute_result"
    }
   ],
   "source": [
    "mock.do_something()"
   ]
  },
  {
   "cell_type": "code",
   "execution_count": 10,
   "id": "32166c68",
   "metadata": {},
   "outputs": [
    {
     "name": "stdout",
     "output_type": "stream",
     "text": [
      "Help on built-in function dir in module builtins:\n",
      "\n",
      "dir(...)\n",
      "    dir([object]) -> list of strings\n",
      "    \n",
      "    If called without an argument, return the names in the current scope.\n",
      "    Else, return an alphabetized list of names comprising (some of) the attributes\n",
      "    of the given object, and of attributes reachable from it.\n",
      "    If the object supplies a method named __dir__, it will be used; otherwise\n",
      "    the default dir() logic is used and returns:\n",
      "      for a module object: the module's attributes.\n",
      "      for a class object:  its attributes, and recursively the attributes\n",
      "        of its bases.\n",
      "      for any other object: its attributes, its class's attributes, and\n",
      "        recursively the attributes of its class's base classes.\n",
      "\n"
     ]
    }
   ],
   "source": [
    "help(dir)"
   ]
  },
  {
   "cell_type": "code",
   "execution_count": 11,
   "id": "7cec39e0",
   "metadata": {},
   "outputs": [
    {
     "data": {
      "text/plain": [
       "['_ipython_canary_method_should_not_exist_',\n",
       " 'assert_any_call',\n",
       " 'assert_called',\n",
       " 'assert_called_once',\n",
       " 'assert_called_once_with',\n",
       " 'assert_called_with',\n",
       " 'assert_has_calls',\n",
       " 'assert_not_called',\n",
       " 'attach_mock',\n",
       " 'call_args',\n",
       " 'call_args_list',\n",
       " 'call_count',\n",
       " 'called',\n",
       " 'configure_mock',\n",
       " 'do_something',\n",
       " 'method_calls',\n",
       " 'mock_add_spec',\n",
       " 'mock_calls',\n",
       " 'reset_mock',\n",
       " 'return_value',\n",
       " 'side_effect',\n",
       " 'some_attribute']"
      ]
     },
     "execution_count": 11,
     "metadata": {},
     "output_type": "execute_result"
    }
   ],
   "source": [
    "# some_attribute and do_something() was added \n",
    "# to the list of mock attributes / methods.\n",
    "dir(mock)"
   ]
  },
  {
   "cell_type": "code",
   "execution_count": 12,
   "id": "aee08926",
   "metadata": {},
   "outputs": [
    {
     "data": {
      "text/plain": [
       "<Mock name='mock.loads().get()' id='1845735327888'>"
      ]
     },
     "execution_count": 12,
     "metadata": {},
     "output_type": "execute_result"
    }
   ],
   "source": [
    "json = Mock()\n",
    "json.loads('{\"k\": \"v\"}').get('k')"
   ]
  },
  {
   "cell_type": "markdown",
   "id": "ac0b3beb",
   "metadata": {},
   "source": [
    "#### 3. Assertions and Inspection"
   ]
  },
  {
   "cell_type": "code",
   "execution_count": 32,
   "id": "2ed9112b",
   "metadata": {},
   "outputs": [],
   "source": [
    "json = Mock()"
   ]
  },
  {
   "cell_type": "code",
   "execution_count": 33,
   "id": "7e587d3c",
   "metadata": {},
   "outputs": [
    {
     "data": {
      "text/plain": [
       "<Mock name='mock.loads()' id='1845758212752'>"
      ]
     },
     "execution_count": 33,
     "metadata": {},
     "output_type": "execute_result"
    }
   ],
   "source": [
    "json.loads('{\"key\": \"value\"}')\n",
    "json.loads('{\"key\": \"value\"}')"
   ]
  },
  {
   "cell_type": "code",
   "execution_count": 34,
   "id": "85c7c373",
   "metadata": {},
   "outputs": [],
   "source": [
    "json.loads.assert_called()"
   ]
  },
  {
   "cell_type": "code",
   "execution_count": 35,
   "id": "4eb0570d",
   "metadata": {},
   "outputs": [
    {
     "ename": "AssertionError",
     "evalue": "Expected 'loads' to have been called once. Called 2 times.\nCalls: [call('{\"key\": \"value\"}'), call('{\"key\": \"value\"}')].",
     "output_type": "error",
     "traceback": [
      "\u001b[1;31m---------------------------------------------------------------------------\u001b[0m",
      "\u001b[1;31mAssertionError\u001b[0m                            Traceback (most recent call last)",
      "Cell \u001b[1;32mIn[35], line 2\u001b[0m\n\u001b[0;32m      1\u001b[0m \u001b[38;5;66;03m# AssertionError if attribute / method was called more than one time\u001b[39;00m\n\u001b[1;32m----> 2\u001b[0m \u001b[43mjson\u001b[49m\u001b[38;5;241;43m.\u001b[39;49m\u001b[43mloads\u001b[49m\u001b[38;5;241;43m.\u001b[39;49m\u001b[43massert_called_once\u001b[49m\u001b[43m(\u001b[49m\u001b[43m)\u001b[49m\n",
      "File \u001b[1;32m~\\AppData\\Local\\Programs\\Python\\Python311\\Lib\\unittest\\mock.py:912\u001b[0m, in \u001b[0;36mNonCallableMock.assert_called_once\u001b[1;34m(self)\u001b[0m\n\u001b[0;32m    907\u001b[0m \u001b[38;5;28;01mif\u001b[39;00m \u001b[38;5;129;01mnot\u001b[39;00m \u001b[38;5;28mself\u001b[39m\u001b[38;5;241m.\u001b[39mcall_count \u001b[38;5;241m==\u001b[39m \u001b[38;5;241m1\u001b[39m:\n\u001b[0;32m    908\u001b[0m     msg \u001b[38;5;241m=\u001b[39m (\u001b[38;5;124m\"\u001b[39m\u001b[38;5;124mExpected \u001b[39m\u001b[38;5;124m'\u001b[39m\u001b[38;5;132;01m%s\u001b[39;00m\u001b[38;5;124m'\u001b[39m\u001b[38;5;124m to have been called once. Called \u001b[39m\u001b[38;5;132;01m%s\u001b[39;00m\u001b[38;5;124m times.\u001b[39m\u001b[38;5;132;01m%s\u001b[39;00m\u001b[38;5;124m\"\u001b[39m\n\u001b[0;32m    909\u001b[0m            \u001b[38;5;241m%\u001b[39m (\u001b[38;5;28mself\u001b[39m\u001b[38;5;241m.\u001b[39m_mock_name \u001b[38;5;129;01mor\u001b[39;00m \u001b[38;5;124m'\u001b[39m\u001b[38;5;124mmock\u001b[39m\u001b[38;5;124m'\u001b[39m,\n\u001b[0;32m    910\u001b[0m               \u001b[38;5;28mself\u001b[39m\u001b[38;5;241m.\u001b[39mcall_count,\n\u001b[0;32m    911\u001b[0m               \u001b[38;5;28mself\u001b[39m\u001b[38;5;241m.\u001b[39m_calls_repr()))\n\u001b[1;32m--> 912\u001b[0m     \u001b[38;5;28;01mraise\u001b[39;00m \u001b[38;5;167;01mAssertionError\u001b[39;00m(msg)\n",
      "\u001b[1;31mAssertionError\u001b[0m: Expected 'loads' to have been called once. Called 2 times.\nCalls: [call('{\"key\": \"value\"}'), call('{\"key\": \"value\"}')]."
     ]
    }
   ],
   "source": [
    "# AssertionError if attribute / method was called more than one time\n",
    "json.loads.assert_called_once()"
   ]
  },
  {
   "cell_type": "code",
   "execution_count": 20,
   "id": "d59cd17d",
   "metadata": {},
   "outputs": [
    {
     "data": {
      "text/plain": [
       "<Mock name='mock.attribute' id='1845758342416'>"
      ]
     },
     "execution_count": 20,
     "metadata": {},
     "output_type": "execute_result"
    }
   ],
   "source": [
    "json.attribute"
   ]
  },
  {
   "cell_type": "code",
   "execution_count": 22,
   "id": "64d4204e",
   "metadata": {},
   "outputs": [
    {
     "data": {
      "text/plain": [
       "<Mock name='mock.attribute' id='1845758342416'>"
      ]
     },
     "execution_count": 22,
     "metadata": {},
     "output_type": "execute_result"
    }
   ],
   "source": [
    "json.attribute"
   ]
  },
  {
   "cell_type": "code",
   "execution_count": 23,
   "id": "76eafe44",
   "metadata": {},
   "outputs": [
    {
     "ename": "AssertionError",
     "evalue": "Expected 'attribute' to have been called once. Called 0 times.",
     "output_type": "error",
     "traceback": [
      "\u001b[1;31m---------------------------------------------------------------------------\u001b[0m",
      "\u001b[1;31mAssertionError\u001b[0m                            Traceback (most recent call last)",
      "Cell \u001b[1;32mIn[23], line 1\u001b[0m\n\u001b[1;32m----> 1\u001b[0m \u001b[43mjson\u001b[49m\u001b[38;5;241;43m.\u001b[39;49m\u001b[43mattribute\u001b[49m\u001b[38;5;241;43m.\u001b[39;49m\u001b[43massert_called_once\u001b[49m\u001b[43m(\u001b[49m\u001b[43m)\u001b[49m\n",
      "File \u001b[1;32m~\\AppData\\Local\\Programs\\Python\\Python311\\Lib\\unittest\\mock.py:912\u001b[0m, in \u001b[0;36mNonCallableMock.assert_called_once\u001b[1;34m(self)\u001b[0m\n\u001b[0;32m    907\u001b[0m \u001b[38;5;28;01mif\u001b[39;00m \u001b[38;5;129;01mnot\u001b[39;00m \u001b[38;5;28mself\u001b[39m\u001b[38;5;241m.\u001b[39mcall_count \u001b[38;5;241m==\u001b[39m \u001b[38;5;241m1\u001b[39m:\n\u001b[0;32m    908\u001b[0m     msg \u001b[38;5;241m=\u001b[39m (\u001b[38;5;124m\"\u001b[39m\u001b[38;5;124mExpected \u001b[39m\u001b[38;5;124m'\u001b[39m\u001b[38;5;132;01m%s\u001b[39;00m\u001b[38;5;124m'\u001b[39m\u001b[38;5;124m to have been called once. Called \u001b[39m\u001b[38;5;132;01m%s\u001b[39;00m\u001b[38;5;124m times.\u001b[39m\u001b[38;5;132;01m%s\u001b[39;00m\u001b[38;5;124m\"\u001b[39m\n\u001b[0;32m    909\u001b[0m            \u001b[38;5;241m%\u001b[39m (\u001b[38;5;28mself\u001b[39m\u001b[38;5;241m.\u001b[39m_mock_name \u001b[38;5;129;01mor\u001b[39;00m \u001b[38;5;124m'\u001b[39m\u001b[38;5;124mmock\u001b[39m\u001b[38;5;124m'\u001b[39m,\n\u001b[0;32m    910\u001b[0m               \u001b[38;5;28mself\u001b[39m\u001b[38;5;241m.\u001b[39mcall_count,\n\u001b[0;32m    911\u001b[0m               \u001b[38;5;28mself\u001b[39m\u001b[38;5;241m.\u001b[39m_calls_repr()))\n\u001b[1;32m--> 912\u001b[0m     \u001b[38;5;28;01mraise\u001b[39;00m \u001b[38;5;167;01mAssertionError\u001b[39;00m(msg)\n",
      "\u001b[1;31mAssertionError\u001b[0m: Expected 'attribute' to have been called once. Called 0 times."
     ]
    }
   ],
   "source": [
    "json.attribute.assert_called_once()"
   ]
  },
  {
   "cell_type": "code",
   "execution_count": 36,
   "id": "d50cbcde",
   "metadata": {},
   "outputs": [],
   "source": [
    "json.loads.assert_called_with('{\"key\": \"value\"}')"
   ]
  },
  {
   "cell_type": "code",
   "execution_count": 37,
   "id": "c1c881c1",
   "metadata": {},
   "outputs": [
    {
     "ename": "AssertionError",
     "evalue": "Expected 'loads' to be called once. Called 2 times.\nCalls: [call('{\"key\": \"value\"}'), call('{\"key\": \"value\"}')].",
     "output_type": "error",
     "traceback": [
      "\u001b[1;31m---------------------------------------------------------------------------\u001b[0m",
      "\u001b[1;31mAssertionError\u001b[0m                            Traceback (most recent call last)",
      "Cell \u001b[1;32mIn[37], line 1\u001b[0m\n\u001b[1;32m----> 1\u001b[0m \u001b[43mjson\u001b[49m\u001b[38;5;241;43m.\u001b[39;49m\u001b[43mloads\u001b[49m\u001b[38;5;241;43m.\u001b[39;49m\u001b[43massert_called_once_with\u001b[49m\u001b[43m(\u001b[49m\u001b[38;5;124;43m'\u001b[39;49m\u001b[38;5;124;43m{\u001b[39;49m\u001b[38;5;124;43m\"\u001b[39;49m\u001b[38;5;124;43mkey\u001b[39;49m\u001b[38;5;124;43m\"\u001b[39;49m\u001b[38;5;124;43m: \u001b[39;49m\u001b[38;5;124;43m\"\u001b[39;49m\u001b[38;5;124;43mvalue\u001b[39;49m\u001b[38;5;124;43m\"\u001b[39;49m\u001b[38;5;124;43m}\u001b[39;49m\u001b[38;5;124;43m'\u001b[39;49m\u001b[43m)\u001b[49m\n",
      "File \u001b[1;32m~\\AppData\\Local\\Programs\\Python\\Python311\\Lib\\unittest\\mock.py:944\u001b[0m, in \u001b[0;36mNonCallableMock.assert_called_once_with\u001b[1;34m(self, *args, **kwargs)\u001b[0m\n\u001b[0;32m    939\u001b[0m \u001b[38;5;28;01mif\u001b[39;00m \u001b[38;5;129;01mnot\u001b[39;00m \u001b[38;5;28mself\u001b[39m\u001b[38;5;241m.\u001b[39mcall_count \u001b[38;5;241m==\u001b[39m \u001b[38;5;241m1\u001b[39m:\n\u001b[0;32m    940\u001b[0m     msg \u001b[38;5;241m=\u001b[39m (\u001b[38;5;124m\"\u001b[39m\u001b[38;5;124mExpected \u001b[39m\u001b[38;5;124m'\u001b[39m\u001b[38;5;132;01m%s\u001b[39;00m\u001b[38;5;124m'\u001b[39m\u001b[38;5;124m to be called once. Called \u001b[39m\u001b[38;5;132;01m%s\u001b[39;00m\u001b[38;5;124m times.\u001b[39m\u001b[38;5;132;01m%s\u001b[39;00m\u001b[38;5;124m\"\u001b[39m\n\u001b[0;32m    941\u001b[0m            \u001b[38;5;241m%\u001b[39m (\u001b[38;5;28mself\u001b[39m\u001b[38;5;241m.\u001b[39m_mock_name \u001b[38;5;129;01mor\u001b[39;00m \u001b[38;5;124m'\u001b[39m\u001b[38;5;124mmock\u001b[39m\u001b[38;5;124m'\u001b[39m,\n\u001b[0;32m    942\u001b[0m               \u001b[38;5;28mself\u001b[39m\u001b[38;5;241m.\u001b[39mcall_count,\n\u001b[0;32m    943\u001b[0m               \u001b[38;5;28mself\u001b[39m\u001b[38;5;241m.\u001b[39m_calls_repr()))\n\u001b[1;32m--> 944\u001b[0m     \u001b[38;5;28;01mraise\u001b[39;00m \u001b[38;5;167;01mAssertionError\u001b[39;00m(msg)\n\u001b[0;32m    945\u001b[0m \u001b[38;5;28;01mreturn\u001b[39;00m \u001b[38;5;28mself\u001b[39m\u001b[38;5;241m.\u001b[39massert_called_with(\u001b[38;5;241m*\u001b[39margs, \u001b[38;5;241m*\u001b[39m\u001b[38;5;241m*\u001b[39mkwargs)\n",
      "\u001b[1;31mAssertionError\u001b[0m: Expected 'loads' to be called once. Called 2 times.\nCalls: [call('{\"key\": \"value\"}'), call('{\"key\": \"value\"}')]."
     ]
    }
   ],
   "source": [
    "json.loads.assert_called_once_with('{\"key\": \"value\"}')"
   ]
  },
  {
   "cell_type": "code",
   "execution_count": 38,
   "id": "997602a8",
   "metadata": {},
   "outputs": [
    {
     "data": {
      "text/plain": [
       "<Mock name='mock.loads()' id='1845758212752'>"
      ]
     },
     "execution_count": 38,
     "metadata": {},
     "output_type": "execute_result"
    }
   ],
   "source": [
    "json.loads(s='{\"k\": \"value\"}')"
   ]
  },
  {
   "cell_type": "code",
   "execution_count": 41,
   "id": "de99c46f",
   "metadata": {},
   "outputs": [],
   "source": [
    "json.loads.assert_called_with(s='{\"k\": \"value\"}')"
   ]
  },
  {
   "cell_type": "code",
   "execution_count": 42,
   "id": "a0ba1dc7",
   "metadata": {},
   "outputs": [
    {
     "ename": "AssertionError",
     "evalue": "expected call not found.\nExpected: loads('{\"key\": \"value\"}')\nActual: loads(s='{\"k\": \"value\"}')",
     "output_type": "error",
     "traceback": [
      "\u001b[1;31m---------------------------------------------------------------------------\u001b[0m",
      "\u001b[1;31mAssertionError\u001b[0m                            Traceback (most recent call last)",
      "Cell \u001b[1;32mIn[42], line 1\u001b[0m\n\u001b[1;32m----> 1\u001b[0m \u001b[43mjson\u001b[49m\u001b[38;5;241;43m.\u001b[39;49m\u001b[43mloads\u001b[49m\u001b[38;5;241;43m.\u001b[39;49m\u001b[43massert_called_with\u001b[49m\u001b[43m(\u001b[49m\u001b[38;5;124;43m'\u001b[39;49m\u001b[38;5;124;43m{\u001b[39;49m\u001b[38;5;124;43m\"\u001b[39;49m\u001b[38;5;124;43mkey\u001b[39;49m\u001b[38;5;124;43m\"\u001b[39;49m\u001b[38;5;124;43m: \u001b[39;49m\u001b[38;5;124;43m\"\u001b[39;49m\u001b[38;5;124;43mvalue\u001b[39;49m\u001b[38;5;124;43m\"\u001b[39;49m\u001b[38;5;124;43m}\u001b[39;49m\u001b[38;5;124;43m'\u001b[39;49m\u001b[43m)\u001b[49m\n",
      "File \u001b[1;32m~\\AppData\\Local\\Programs\\Python\\Python311\\Lib\\unittest\\mock.py:933\u001b[0m, in \u001b[0;36mNonCallableMock.assert_called_with\u001b[1;34m(self, *args, **kwargs)\u001b[0m\n\u001b[0;32m    931\u001b[0m \u001b[38;5;28;01mif\u001b[39;00m actual \u001b[38;5;241m!=\u001b[39m expected:\n\u001b[0;32m    932\u001b[0m     cause \u001b[38;5;241m=\u001b[39m expected \u001b[38;5;28;01mif\u001b[39;00m \u001b[38;5;28misinstance\u001b[39m(expected, \u001b[38;5;167;01mException\u001b[39;00m) \u001b[38;5;28;01melse\u001b[39;00m \u001b[38;5;28;01mNone\u001b[39;00m\n\u001b[1;32m--> 933\u001b[0m     \u001b[38;5;28;01mraise\u001b[39;00m \u001b[38;5;167;01mAssertionError\u001b[39;00m(_error_message()) \u001b[38;5;28;01mfrom\u001b[39;00m \u001b[38;5;21;01mcause\u001b[39;00m\n",
      "\u001b[1;31mAssertionError\u001b[0m: expected call not found.\nExpected: loads('{\"key\": \"value\"}')\nActual: loads(s='{\"k\": \"value\"}')"
     ]
    }
   ],
   "source": [
    "# old signature\n",
    "json.loads.assert_called_with('{\"key\": \"value\"}')"
   ]
  },
  {
   "cell_type": "code",
   "execution_count": 40,
   "id": "17a153bb",
   "metadata": {},
   "outputs": [
    {
     "ename": "AssertionError",
     "evalue": "expected call not found.\nExpected: loads(k='{\"k\": \"value\"}')\nActual: loads(s='{\"k\": \"value\"}')",
     "output_type": "error",
     "traceback": [
      "\u001b[1;31m---------------------------------------------------------------------------\u001b[0m",
      "\u001b[1;31mAssertionError\u001b[0m                            Traceback (most recent call last)",
      "Cell \u001b[1;32mIn[40], line 1\u001b[0m\n\u001b[1;32m----> 1\u001b[0m \u001b[43mjson\u001b[49m\u001b[38;5;241;43m.\u001b[39;49m\u001b[43mloads\u001b[49m\u001b[38;5;241;43m.\u001b[39;49m\u001b[43massert_called_with\u001b[49m\u001b[43m(\u001b[49m\u001b[43mk\u001b[49m\u001b[38;5;241;43m=\u001b[39;49m\u001b[38;5;124;43m'\u001b[39;49m\u001b[38;5;124;43m{\u001b[39;49m\u001b[38;5;124;43m\"\u001b[39;49m\u001b[38;5;124;43mk\u001b[39;49m\u001b[38;5;124;43m\"\u001b[39;49m\u001b[38;5;124;43m: \u001b[39;49m\u001b[38;5;124;43m\"\u001b[39;49m\u001b[38;5;124;43mvalue\u001b[39;49m\u001b[38;5;124;43m\"\u001b[39;49m\u001b[38;5;124;43m}\u001b[39;49m\u001b[38;5;124;43m'\u001b[39;49m\u001b[43m)\u001b[49m\n",
      "File \u001b[1;32m~\\AppData\\Local\\Programs\\Python\\Python311\\Lib\\unittest\\mock.py:933\u001b[0m, in \u001b[0;36mNonCallableMock.assert_called_with\u001b[1;34m(self, *args, **kwargs)\u001b[0m\n\u001b[0;32m    931\u001b[0m \u001b[38;5;28;01mif\u001b[39;00m actual \u001b[38;5;241m!=\u001b[39m expected:\n\u001b[0;32m    932\u001b[0m     cause \u001b[38;5;241m=\u001b[39m expected \u001b[38;5;28;01mif\u001b[39;00m \u001b[38;5;28misinstance\u001b[39m(expected, \u001b[38;5;167;01mException\u001b[39;00m) \u001b[38;5;28;01melse\u001b[39;00m \u001b[38;5;28;01mNone\u001b[39;00m\n\u001b[1;32m--> 933\u001b[0m     \u001b[38;5;28;01mraise\u001b[39;00m \u001b[38;5;167;01mAssertionError\u001b[39;00m(_error_message()) \u001b[38;5;28;01mfrom\u001b[39;00m \u001b[38;5;21;01mcause\u001b[39;00m\n",
      "\u001b[1;31mAssertionError\u001b[0m: expected call not found.\nExpected: loads(k='{\"k\": \"value\"}')\nActual: loads(s='{\"k\": \"value\"}')"
     ]
    }
   ],
   "source": [
    "json.loads.assert_called_with(k='{\"k\": \"value\"}')"
   ]
  },
  {
   "cell_type": "code",
   "execution_count": 39,
   "id": "c5ab09e1",
   "metadata": {},
   "outputs": [
    {
     "ename": "AssertionError",
     "evalue": "expected call not found.\nExpected: loads('{\"k\": \"value\"}')\nActual: loads(s='{\"k\": \"value\"}')",
     "output_type": "error",
     "traceback": [
      "\u001b[1;31m---------------------------------------------------------------------------\u001b[0m",
      "\u001b[1;31mAssertionError\u001b[0m                            Traceback (most recent call last)",
      "Cell \u001b[1;32mIn[39], line 1\u001b[0m\n\u001b[1;32m----> 1\u001b[0m \u001b[43mjson\u001b[49m\u001b[38;5;241;43m.\u001b[39;49m\u001b[43mloads\u001b[49m\u001b[38;5;241;43m.\u001b[39;49m\u001b[43massert_called_with\u001b[49m\u001b[43m(\u001b[49m\u001b[38;5;124;43m'\u001b[39;49m\u001b[38;5;124;43m{\u001b[39;49m\u001b[38;5;124;43m\"\u001b[39;49m\u001b[38;5;124;43mk\u001b[39;49m\u001b[38;5;124;43m\"\u001b[39;49m\u001b[38;5;124;43m: \u001b[39;49m\u001b[38;5;124;43m\"\u001b[39;49m\u001b[38;5;124;43mvalue\u001b[39;49m\u001b[38;5;124;43m\"\u001b[39;49m\u001b[38;5;124;43m}\u001b[39;49m\u001b[38;5;124;43m'\u001b[39;49m\u001b[43m)\u001b[49m\n",
      "File \u001b[1;32m~\\AppData\\Local\\Programs\\Python\\Python311\\Lib\\unittest\\mock.py:933\u001b[0m, in \u001b[0;36mNonCallableMock.assert_called_with\u001b[1;34m(self, *args, **kwargs)\u001b[0m\n\u001b[0;32m    931\u001b[0m \u001b[38;5;28;01mif\u001b[39;00m actual \u001b[38;5;241m!=\u001b[39m expected:\n\u001b[0;32m    932\u001b[0m     cause \u001b[38;5;241m=\u001b[39m expected \u001b[38;5;28;01mif\u001b[39;00m \u001b[38;5;28misinstance\u001b[39m(expected, \u001b[38;5;167;01mException\u001b[39;00m) \u001b[38;5;28;01melse\u001b[39;00m \u001b[38;5;28;01mNone\u001b[39;00m\n\u001b[1;32m--> 933\u001b[0m     \u001b[38;5;28;01mraise\u001b[39;00m \u001b[38;5;167;01mAssertionError\u001b[39;00m(_error_message()) \u001b[38;5;28;01mfrom\u001b[39;00m \u001b[38;5;21;01mcause\u001b[39;00m\n",
      "\u001b[1;31mAssertionError\u001b[0m: expected call not found.\nExpected: loads('{\"k\": \"value\"}')\nActual: loads(s='{\"k\": \"value\"}')"
     ]
    }
   ],
   "source": [
    "json.loads.assert_called_with('{\"k\": \"value\"}')"
   ]
  },
  {
   "cell_type": "code",
   "execution_count": 43,
   "id": "f16c8bd2",
   "metadata": {},
   "outputs": [
    {
     "data": {
      "text/plain": [
       "3"
      ]
     },
     "execution_count": 43,
     "metadata": {},
     "output_type": "execute_result"
    }
   ],
   "source": [
    "json.loads.call_count"
   ]
  },
  {
   "cell_type": "code",
   "execution_count": 44,
   "id": "9513bae8",
   "metadata": {},
   "outputs": [
    {
     "data": {
      "text/plain": [
       "call(s='{\"k\": \"value\"}')"
      ]
     },
     "execution_count": 44,
     "metadata": {},
     "output_type": "execute_result"
    }
   ],
   "source": [
    "json.loads.call_args"
   ]
  },
  {
   "cell_type": "code",
   "execution_count": 46,
   "id": "8a7313dd",
   "metadata": {},
   "outputs": [
    {
     "data": {
      "text/plain": [
       "[call.loads('{\"key\": \"value\"}'),\n",
       " call.loads('{\"key\": \"value\"}'),\n",
       " call.loads(s='{\"k\": \"value\"}')]"
      ]
     },
     "execution_count": 46,
     "metadata": {},
     "output_type": "execute_result"
    }
   ],
   "source": [
    "json.method_calls"
   ]
  },
  {
   "cell_type": "code",
   "execution_count": 47,
   "id": "18006a79",
   "metadata": {},
   "outputs": [
    {
     "ename": "AssertionError",
     "evalue": "expected call not found.\nExpected: loads('{\"key\": \"value\"}')\nActual: loads(s='{\"k\": \"value\"}')",
     "output_type": "error",
     "traceback": [
      "\u001b[1;31m---------------------------------------------------------------------------\u001b[0m",
      "\u001b[1;31mAssertionError\u001b[0m                            Traceback (most recent call last)",
      "Cell \u001b[1;32mIn[47], line 1\u001b[0m\n\u001b[1;32m----> 1\u001b[0m \u001b[43mjson\u001b[49m\u001b[38;5;241;43m.\u001b[39;49m\u001b[43mloads\u001b[49m\u001b[38;5;241;43m.\u001b[39;49m\u001b[43massert_called_with\u001b[49m\u001b[43m(\u001b[49m\u001b[38;5;124;43m'\u001b[39;49m\u001b[38;5;124;43m{\u001b[39;49m\u001b[38;5;124;43m\"\u001b[39;49m\u001b[38;5;124;43mkey\u001b[39;49m\u001b[38;5;124;43m\"\u001b[39;49m\u001b[38;5;124;43m: \u001b[39;49m\u001b[38;5;124;43m\"\u001b[39;49m\u001b[38;5;124;43mvalue\u001b[39;49m\u001b[38;5;124;43m\"\u001b[39;49m\u001b[38;5;124;43m}\u001b[39;49m\u001b[38;5;124;43m'\u001b[39;49m\u001b[43m)\u001b[49m\n",
      "File \u001b[1;32m~\\AppData\\Local\\Programs\\Python\\Python311\\Lib\\unittest\\mock.py:933\u001b[0m, in \u001b[0;36mNonCallableMock.assert_called_with\u001b[1;34m(self, *args, **kwargs)\u001b[0m\n\u001b[0;32m    931\u001b[0m \u001b[38;5;28;01mif\u001b[39;00m actual \u001b[38;5;241m!=\u001b[39m expected:\n\u001b[0;32m    932\u001b[0m     cause \u001b[38;5;241m=\u001b[39m expected \u001b[38;5;28;01mif\u001b[39;00m \u001b[38;5;28misinstance\u001b[39m(expected, \u001b[38;5;167;01mException\u001b[39;00m) \u001b[38;5;28;01melse\u001b[39;00m \u001b[38;5;28;01mNone\u001b[39;00m\n\u001b[1;32m--> 933\u001b[0m     \u001b[38;5;28;01mraise\u001b[39;00m \u001b[38;5;167;01mAssertionError\u001b[39;00m(_error_message()) \u001b[38;5;28;01mfrom\u001b[39;00m \u001b[38;5;21;01mcause\u001b[39;00m\n",
      "\u001b[1;31mAssertionError\u001b[0m: expected call not found.\nExpected: loads('{\"key\": \"value\"}')\nActual: loads(s='{\"k\": \"value\"}')"
     ]
    }
   ],
   "source": [
    "json.loads.assert_called_with('{\"key\": \"value\"}')"
   ]
  },
  {
   "cell_type": "code",
   "execution_count": null,
   "id": "8854e556",
   "metadata": {},
   "outputs": [],
   "source": []
  },
  {
   "cell_type": "markdown",
   "id": "4e92736e",
   "metadata": {},
   "source": [
    "#### 4. Mock's Side Effects"
   ]
  },
  {
   "cell_type": "code",
   "execution_count": 50,
   "id": "a0e80f32",
   "metadata": {},
   "outputs": [],
   "source": [
    "import requests\n",
    "from requests.exceptions import Timeout"
   ]
  },
  {
   "cell_type": "code",
   "execution_count": 54,
   "id": "44864985",
   "metadata": {},
   "outputs": [],
   "source": [
    "def get_google():\n",
    "    r = requests.get(\"http://www.google.com\")\n",
    "    return r"
   ]
  },
  {
   "cell_type": "code",
   "execution_count": 57,
   "id": "cadc4aaa",
   "metadata": {},
   "outputs": [],
   "source": [
    "# Test a connection timeout.\n",
    "# Mock GET method\n",
    "requests.get = Mock()\n",
    "# Set side effect \n",
    "requests.get.side_effect = Timeout"
   ]
  },
  {
   "cell_type": "code",
   "execution_count": null,
   "id": "94d7c433",
   "metadata": {},
   "outputs": [],
   "source": [
    "get_google()"
   ]
  },
  {
   "cell_type": "code",
   "execution_count": 64,
   "id": "a9910da3",
   "metadata": {},
   "outputs": [],
   "source": [
    "def log_request(url):\n",
    "    print(f'Making a request to {url}.')\n",
    "    print('Request received!')\n",
    "    response_mock = Mock()\n",
    "    response_mock.status_code = 200\n",
    "    response_mock.json.return_value = {\n",
    "        \"12/25\": \"Christmas\"\n",
    "    }\n",
    "    return response_mock"
   ]
  },
  {
   "cell_type": "code",
   "execution_count": 71,
   "id": "250402cc",
   "metadata": {},
   "outputs": [],
   "source": [
    "requests.get.return_value = log_request"
   ]
  },
  {
   "cell_type": "code",
   "execution_count": 72,
   "id": "7789fd20",
   "metadata": {},
   "outputs": [
    {
     "name": "stdout",
     "output_type": "stream",
     "text": [
      "Making a request to http://www.google.com.\n",
      "Request received!\n"
     ]
    }
   ],
   "source": [
    "mocked_response = get_google()"
   ]
  },
  {
   "cell_type": "code",
   "execution_count": 73,
   "id": "97784879",
   "metadata": {},
   "outputs": [
    {
     "data": {
      "text/plain": [
       "{'12/25': 'Christmas'}"
      ]
     },
     "execution_count": 73,
     "metadata": {},
     "output_type": "execute_result"
    }
   ],
   "source": [
    "mocked_response.json()"
   ]
  },
  {
   "cell_type": "markdown",
   "id": "d032fd0d",
   "metadata": {},
   "source": [
    "#### 5. Mock / Stub Practice"
   ]
  },
  {
   "cell_type": "code",
   "execution_count": 118,
   "id": "30b00149",
   "metadata": {},
   "outputs": [],
   "source": [
    "from random import randint"
   ]
  },
  {
   "cell_type": "code",
   "execution_count": 125,
   "id": "1a952424",
   "metadata": {},
   "outputs": [],
   "source": [
    "# Mock required object\n",
    "randint = Mock()"
   ]
  },
  {
   "cell_type": "code",
   "execution_count": 126,
   "id": "73b4a31a",
   "metadata": {},
   "outputs": [],
   "source": [
    "def get_rand_side():\n",
    "    return randint(1, 4)"
   ]
  },
  {
   "cell_type": "code",
   "execution_count": 127,
   "id": "35e52e27",
   "metadata": {},
   "outputs": [],
   "source": [
    "def test_randint():\n",
    "    # Call function with mocked object\n",
    "    get_rand_side()\n",
    "    # Assert calls and arguments\n",
    "    randint.assert_called_once()\n",
    "    randint.assert_called_with(1, 4)"
   ]
  },
  {
   "cell_type": "code",
   "execution_count": 128,
   "id": "1cf289e6",
   "metadata": {},
   "outputs": [],
   "source": [
    "test_randint()"
   ]
  },
  {
   "cell_type": "code",
   "execution_count": null,
   "id": "6516a7b7",
   "metadata": {},
   "outputs": [],
   "source": []
  }
 ],
 "metadata": {
  "kernelspec": {
   "display_name": "Python 3 (ipykernel)",
   "language": "python",
   "name": "python3"
  },
  "language_info": {
   "codemirror_mode": {
    "name": "ipython",
    "version": 3
   },
   "file_extension": ".py",
   "mimetype": "text/x-python",
   "name": "python",
   "nbconvert_exporter": "python",
   "pygments_lexer": "ipython3",
   "version": "3.11.1"
  }
 },
 "nbformat": 4,
 "nbformat_minor": 5
}
